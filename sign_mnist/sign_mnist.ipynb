{
 "cells": [
  {
   "cell_type": "markdown",
   "metadata": {},
   "source": [
    "[Open in Colab](https://colab.research.google.com/github/mizu-pumpkin/TFG2021/blob/main/sign_mnist/sign_mnist.ipynb)"
   ]
  },
  {
   "cell_type": "markdown",
   "metadata": {
    "id": "csR4PGhE54br"
   },
   "source": [
    "# Imports"
   ]
  },
  {
   "cell_type": "code",
   "execution_count": 52,
   "metadata": {
    "executionInfo": {
     "elapsed": 468,
     "status": "ok",
     "timestamp": 1616439178942,
     "user": {
      "displayName": "Mizu Pumpink",
      "photoUrl": "https://lh3.googleusercontent.com/a-/AOh14GhuUpPlobRe-Yzx5kPokVuPf6FytiiVWYIYqKttuQ=s64",
      "userId": "13006616921884220327"
     },
     "user_tz": -60
    },
    "id": "zaJNkPngTpEj"
   },
   "outputs": [],
   "source": [
    "# !pip install numpy matplotlib torch==1.7.0+cpu torchvision==0.8.1+cpu torchaudio==0.7.0 -f https://download.pytorch.org/whl/torch_stable.html"
   ]
  },
  {
   "cell_type": "code",
   "execution_count": 53,
   "metadata": {
    "executionInfo": {
     "elapsed": 1190,
     "status": "ok",
     "timestamp": 1616439179671,
     "user": {
      "displayName": "Mizu Pumpink",
      "photoUrl": "https://lh3.googleusercontent.com/a-/AOh14GhuUpPlobRe-Yzx5kPokVuPf6FytiiVWYIYqKttuQ=s64",
      "userId": "13006616921884220327"
     },
     "user_tz": -60
    },
    "id": "BLqhK66WUhXN"
   },
   "outputs": [],
   "source": [
    "#Imports\n",
    "import numpy as np\n",
    "import pandas as pd\n",
    "import torch\n",
    "import torch.nn as nn\n",
    "import torch.nn.functional as F\n",
    "from torch.utils.data import TensorDataset, DataLoader, random_split\n",
    "import torchvision\n",
    "import torchvision.transforms as transforms\n",
    "#from torchvision.transforms import ToTensor\n",
    "#from torchvision.utils import make_grid\n",
    "#from torchvision.datasets.utils import download_url\n",
    "import matplotlib\n",
    "import matplotlib.pyplot as plt\n",
    "\n",
    "# indicates to Jupyter that we want to plot the graphs within the notebook\n",
    "%matplotlib inline\n",
    "# Use a white background for matplotlib figures\n",
    "matplotlib.rcParams['figure.facecolor'] = '#ffffff'"
   ]
  },
  {
   "cell_type": "markdown",
   "metadata": {
    "id": "0MJjdrQi58M3"
   },
   "source": [
    "# Image Classification generic model & functions"
   ]
  },
  {
   "cell_type": "code",
   "execution_count": 54,
   "metadata": {
    "executionInfo": {
     "elapsed": 771,
     "status": "ok",
     "timestamp": 1616439180800,
     "user": {
      "displayName": "Mizu Pumpink",
      "photoUrl": "https://lh3.googleusercontent.com/a-/AOh14GhuUpPlobRe-Yzx5kPokVuPf6FytiiVWYIYqKttuQ=s64",
      "userId": "13006616921884220327"
     },
     "user_tz": -60
    },
    "id": "rC_fZ_8D3pz8"
   },
   "outputs": [],
   "source": [
    "def accuracy(outputs, labels):\n",
    "    _, preds = torch.max(outputs, dim=1)\n",
    "    return torch.tensor(torch.sum(preds == labels).item() / len(preds))\n",
    "\n",
    "### EXAMPLE MODEL CLASS\n",
    "class Model(nn.Module):\n",
    "    def __init__(self):\n",
    "        super(Model, self).__init__()\n",
    "        self.conv1 = nn.Conv2d(1, 20, 5)\n",
    "        self.conv2 = nn.Conv2d(20, 20, 5)\n",
    "\n",
    "    def forward(self, x):\n",
    "        x = F.relu(self.conv1(x))\n",
    "        return F.relu(self.conv2(x))\n",
    "###\n",
    "\n",
    "class ImageClassificationBase(nn.Module):\n",
    "    def training_step(self, batch):\n",
    "        images, labels = batch \n",
    "        out = self(images)                  # Generate predictions\n",
    "        loss = F.cross_entropy(out, labels) # Calculate loss\n",
    "        return loss\n",
    "    \n",
    "    def validation_step(self, batch):\n",
    "        images, labels = batch \n",
    "        out = self(images)                    # Generate predictions\n",
    "        loss = F.cross_entropy(out, labels)   # Calculate loss\n",
    "        acc = accuracy(out, labels)           # Calculate accuracy\n",
    "        return {'val_loss': loss.detach(), 'val_acc': acc}\n",
    "        \n",
    "    def validation_epoch_end(self, outputs):\n",
    "        batch_losses = [x['val_loss'] for x in outputs]\n",
    "        epoch_loss = torch.stack(batch_losses).mean()   # Combine losses\n",
    "        batch_accs = [x['val_acc'] for x in outputs]\n",
    "        epoch_acc = torch.stack(batch_accs).mean()      # Combine accuracies\n",
    "        return {'val_loss': epoch_loss.item(), 'val_acc': epoch_acc.item()}\n",
    "    \n",
    "    def epoch_end(self, epoch, result):\n",
    "        print(\"Epoch [{}], val_loss: {:.4f}, val_acc: {:.4f}\".format(epoch, result['val_loss'], result['val_acc']))"
   ]
  },
  {
   "cell_type": "code",
   "execution_count": 55,
   "metadata": {
    "executionInfo": {
     "elapsed": 762,
     "status": "ok",
     "timestamp": 1616439180800,
     "user": {
      "displayName": "Mizu Pumpink",
      "photoUrl": "https://lh3.googleusercontent.com/a-/AOh14GhuUpPlobRe-Yzx5kPokVuPf6FytiiVWYIYqKttuQ=s64",
      "userId": "13006616921884220327"
     },
     "user_tz": -60
    },
    "id": "j3R-swpmJj9a"
   },
   "outputs": [],
   "source": [
    "def evaluate(model, val_loader):\n",
    "    outputs = [model.validation_step(batch) for batch in val_loader]\n",
    "    return model.validation_epoch_end(outputs)\n",
    "\n",
    "# The problem-independent parts within a function called fit, which will be used\n",
    "# to train the model. The problem-specific parts will be implemented by adding\n",
    "# new methods to the nn.Module class.\n",
    "# Configurations like batch size, learning rate, etc. (called hyperparameters),\n",
    "# need to be picked in advance while training machine learning models.\n",
    "def fit(epochs, lr, model, train_loader, val_loader, opt_func=torch.optim.SGD):\n",
    "    history = [] # for recording epoch-wise results\n",
    "    optimizer = opt_func(model.parameters(), lr)\n",
    "    for epoch in range(epochs):\n",
    "        # Training Phase \n",
    "        for batch in train_loader:\n",
    "            loss = model.training_step(batch)\n",
    "            loss.backward()\n",
    "            optimizer.step()\n",
    "            optimizer.zero_grad()\n",
    "        # Validation phase\n",
    "        result = evaluate(model, val_loader)\n",
    "        model.epoch_end(epoch, result)\n",
    "        history.append(result)\n",
    "    return history"
   ]
  },
  {
   "cell_type": "code",
   "execution_count": 56,
   "metadata": {
    "executionInfo": {
     "elapsed": 756,
     "status": "ok",
     "timestamp": 1616439180801,
     "user": {
      "displayName": "Mizu Pumpink",
      "photoUrl": "https://lh3.googleusercontent.com/a-/AOh14GhuUpPlobRe-Yzx5kPokVuPf6FytiiVWYIYqKttuQ=s64",
      "userId": "13006616921884220327"
     },
     "user_tz": -60
    },
    "id": "OArx789U_Nd2"
   },
   "outputs": [],
   "source": [
    "def plot_accuracies(history):\n",
    "    accuracies = [r['val_acc'] for r in history]\n",
    "    plt.plot(accuracies, '-x')\n",
    "    plt.xlabel('epoch')\n",
    "    plt.ylabel('accuracy')\n",
    "    plt.title('Accuracy vs. No. of epochs');\n",
    "\n",
    "def plot_losses(history):\n",
    "    accuracies = [r['val_loss'] for r in history]\n",
    "    plt.plot(accuracies, '-x')\n",
    "    plt.xlabel('epoch')\n",
    "    plt.ylabel('loss')\n",
    "    plt.title('Loss vs. No. of epochs');"
   ]
  },
  {
   "cell_type": "markdown",
   "metadata": {
    "id": "8ZLfub9-6cbE"
   },
   "source": [
    "# Utils"
   ]
  },
  {
   "cell_type": "code",
   "execution_count": 57,
   "metadata": {
    "executionInfo": {
     "elapsed": 379,
     "status": "ok",
     "timestamp": 1616439181600,
     "user": {
      "displayName": "Mizu Pumpink",
      "photoUrl": "https://lh3.googleusercontent.com/a-/AOh14GhuUpPlobRe-Yzx5kPokVuPf6FytiiVWYIYqKttuQ=s64",
      "userId": "13006616921884220327"
     },
     "user_tz": -60
    },
    "id": "2n-k8aTK8NQ0"
   },
   "outputs": [],
   "source": [
    "# Utilities for moving out data & labels to the GPU, if one is available.\n",
    "def get_default_device():\n",
    "    \"\"\"Pick GPU if available, else CPU\"\"\"\n",
    "    if torch.cuda.is_available():\n",
    "        return torch.device('cuda')\n",
    "    else:\n",
    "        return torch.device('cpu')\n",
    "\n",
    "device = get_default_device()\n",
    "\n",
    "def to_device(data, device):\n",
    "    \"\"\"Move tensor(s) to chosen device\"\"\"\n",
    "    if isinstance(data, (list,tuple)):\n",
    "        return [to_device(x, device) for x in data]\n",
    "    return data.to(device, non_blocking=True)\n",
    "\n",
    "class DeviceDataLoader():\n",
    "    \"\"\"Wrap a dataloader to move data to a device\"\"\"\n",
    "    def __init__(self, dl, device):\n",
    "        self.dl = dl\n",
    "        self.device = device\n",
    "        \n",
    "    def __iter__(self):\n",
    "        \"\"\"Yield a batch of data after moving it to device\"\"\"\n",
    "        for b in self.dl: \n",
    "            yield to_device(b, self.device)\n",
    "\n",
    "    def __len__(self):\n",
    "        \"\"\"Number of batches\"\"\"\n",
    "        return len(self.dl)"
   ]
  },
  {
   "cell_type": "markdown",
   "metadata": {
    "id": "DZAdD0GUTvc-"
   },
   "source": [
    "# ASL word-level recognition"
   ]
  },
  {
   "cell_type": "markdown",
   "metadata": {
    "id": "NstZwhTZ-aqf"
   },
   "source": [
    "## Load sign-MNIST datasets"
   ]
  },
  {
   "cell_type": "code",
   "execution_count": 58,
   "metadata": {
    "executionInfo": {
     "elapsed": 431,
     "status": "ok",
     "timestamp": 1616439184223,
     "user": {
      "displayName": "Mizu Pumpink",
      "photoUrl": "https://lh3.googleusercontent.com/a-/AOh14GhuUpPlobRe-Yzx5kPokVuPf6FytiiVWYIYqKttuQ=s64",
      "userId": "13006616921884220327"
     },
     "user_tz": -60
    },
    "id": "u2yTupw9Zu-G"
   },
   "outputs": [],
   "source": [
    "# Other constants\n",
    "num_rows = 27455\n",
    "input_size = 28*28\n",
    "output_size = 26\n",
    "\n",
    "def int_to_char(num):\n",
    "    return chr(num+65)\n",
    "\n",
    "def plot_dataset(dataset):\n",
    "    plt.figure(figsize=(9,7))\n",
    "    for i in range(6):\n",
    "        plt.subplot(2,3,i+1)\n",
    "        image, label = dataset[i]\n",
    "        plt.imshow(image.reshape(1,28,28)[0], cmap='gray')\n",
    "        plt.xlabel(int_to_char(label.item()))\n",
    "    plt.show()"
   ]
  },
  {
   "cell_type": "code",
   "execution_count": 59,
   "metadata": {
    "colab": {
     "base_uri": "https://localhost:8080/",
     "height": 0
    },
    "executionInfo": {
     "elapsed": 2924,
     "status": "ok",
     "timestamp": 1616439186723,
     "user": {
      "displayName": "Mizu Pumpink",
      "photoUrl": "https://lh3.googleusercontent.com/a-/AOh14GhuUpPlobRe-Yzx5kPokVuPf6FytiiVWYIYqKttuQ=s64",
      "userId": "13006616921884220327"
     },
     "user_tz": -60
    },
    "id": "Tnb7EBJJrzmu",
    "outputId": "7ed929d1-fed1-4d45-e9e3-197ce5b13bc7"
   },
   "outputs": [
    {
     "data": {
      "text/html": [
       "<div>\n",
       "<style scoped>\n",
       "    .dataframe tbody tr th:only-of-type {\n",
       "        vertical-align: middle;\n",
       "    }\n",
       "\n",
       "    .dataframe tbody tr th {\n",
       "        vertical-align: top;\n",
       "    }\n",
       "\n",
       "    .dataframe thead th {\n",
       "        text-align: right;\n",
       "    }\n",
       "</style>\n",
       "<table border=\"1\" class=\"dataframe\">\n",
       "  <thead>\n",
       "    <tr style=\"text-align: right;\">\n",
       "      <th></th>\n",
       "      <th>label</th>\n",
       "      <th>pixel1</th>\n",
       "      <th>pixel2</th>\n",
       "      <th>pixel3</th>\n",
       "      <th>pixel4</th>\n",
       "      <th>pixel5</th>\n",
       "      <th>pixel6</th>\n",
       "      <th>pixel7</th>\n",
       "      <th>pixel8</th>\n",
       "      <th>pixel9</th>\n",
       "      <th>...</th>\n",
       "      <th>pixel775</th>\n",
       "      <th>pixel776</th>\n",
       "      <th>pixel777</th>\n",
       "      <th>pixel778</th>\n",
       "      <th>pixel779</th>\n",
       "      <th>pixel780</th>\n",
       "      <th>pixel781</th>\n",
       "      <th>pixel782</th>\n",
       "      <th>pixel783</th>\n",
       "      <th>pixel784</th>\n",
       "    </tr>\n",
       "  </thead>\n",
       "  <tbody>\n",
       "    <tr>\n",
       "      <th>0</th>\n",
       "      <td>3</td>\n",
       "      <td>107</td>\n",
       "      <td>118</td>\n",
       "      <td>127</td>\n",
       "      <td>134</td>\n",
       "      <td>139</td>\n",
       "      <td>143</td>\n",
       "      <td>146</td>\n",
       "      <td>150</td>\n",
       "      <td>153</td>\n",
       "      <td>...</td>\n",
       "      <td>207</td>\n",
       "      <td>207</td>\n",
       "      <td>207</td>\n",
       "      <td>207</td>\n",
       "      <td>206</td>\n",
       "      <td>206</td>\n",
       "      <td>206</td>\n",
       "      <td>204</td>\n",
       "      <td>203</td>\n",
       "      <td>202</td>\n",
       "    </tr>\n",
       "    <tr>\n",
       "      <th>1</th>\n",
       "      <td>6</td>\n",
       "      <td>155</td>\n",
       "      <td>157</td>\n",
       "      <td>156</td>\n",
       "      <td>156</td>\n",
       "      <td>156</td>\n",
       "      <td>157</td>\n",
       "      <td>156</td>\n",
       "      <td>158</td>\n",
       "      <td>158</td>\n",
       "      <td>...</td>\n",
       "      <td>69</td>\n",
       "      <td>149</td>\n",
       "      <td>128</td>\n",
       "      <td>87</td>\n",
       "      <td>94</td>\n",
       "      <td>163</td>\n",
       "      <td>175</td>\n",
       "      <td>103</td>\n",
       "      <td>135</td>\n",
       "      <td>149</td>\n",
       "    </tr>\n",
       "    <tr>\n",
       "      <th>2</th>\n",
       "      <td>2</td>\n",
       "      <td>187</td>\n",
       "      <td>188</td>\n",
       "      <td>188</td>\n",
       "      <td>187</td>\n",
       "      <td>187</td>\n",
       "      <td>186</td>\n",
       "      <td>187</td>\n",
       "      <td>188</td>\n",
       "      <td>187</td>\n",
       "      <td>...</td>\n",
       "      <td>202</td>\n",
       "      <td>201</td>\n",
       "      <td>200</td>\n",
       "      <td>199</td>\n",
       "      <td>198</td>\n",
       "      <td>199</td>\n",
       "      <td>198</td>\n",
       "      <td>195</td>\n",
       "      <td>194</td>\n",
       "      <td>195</td>\n",
       "    </tr>\n",
       "    <tr>\n",
       "      <th>3</th>\n",
       "      <td>2</td>\n",
       "      <td>211</td>\n",
       "      <td>211</td>\n",
       "      <td>212</td>\n",
       "      <td>212</td>\n",
       "      <td>211</td>\n",
       "      <td>210</td>\n",
       "      <td>211</td>\n",
       "      <td>210</td>\n",
       "      <td>210</td>\n",
       "      <td>...</td>\n",
       "      <td>235</td>\n",
       "      <td>234</td>\n",
       "      <td>233</td>\n",
       "      <td>231</td>\n",
       "      <td>230</td>\n",
       "      <td>226</td>\n",
       "      <td>225</td>\n",
       "      <td>222</td>\n",
       "      <td>229</td>\n",
       "      <td>163</td>\n",
       "    </tr>\n",
       "    <tr>\n",
       "      <th>4</th>\n",
       "      <td>13</td>\n",
       "      <td>164</td>\n",
       "      <td>167</td>\n",
       "      <td>170</td>\n",
       "      <td>172</td>\n",
       "      <td>176</td>\n",
       "      <td>179</td>\n",
       "      <td>180</td>\n",
       "      <td>184</td>\n",
       "      <td>185</td>\n",
       "      <td>...</td>\n",
       "      <td>92</td>\n",
       "      <td>105</td>\n",
       "      <td>105</td>\n",
       "      <td>108</td>\n",
       "      <td>133</td>\n",
       "      <td>163</td>\n",
       "      <td>157</td>\n",
       "      <td>163</td>\n",
       "      <td>164</td>\n",
       "      <td>179</td>\n",
       "    </tr>\n",
       "    <tr>\n",
       "      <th>...</th>\n",
       "      <td>...</td>\n",
       "      <td>...</td>\n",
       "      <td>...</td>\n",
       "      <td>...</td>\n",
       "      <td>...</td>\n",
       "      <td>...</td>\n",
       "      <td>...</td>\n",
       "      <td>...</td>\n",
       "      <td>...</td>\n",
       "      <td>...</td>\n",
       "      <td>...</td>\n",
       "      <td>...</td>\n",
       "      <td>...</td>\n",
       "      <td>...</td>\n",
       "      <td>...</td>\n",
       "      <td>...</td>\n",
       "      <td>...</td>\n",
       "      <td>...</td>\n",
       "      <td>...</td>\n",
       "      <td>...</td>\n",
       "      <td>...</td>\n",
       "    </tr>\n",
       "    <tr>\n",
       "      <th>27450</th>\n",
       "      <td>13</td>\n",
       "      <td>189</td>\n",
       "      <td>189</td>\n",
       "      <td>190</td>\n",
       "      <td>190</td>\n",
       "      <td>192</td>\n",
       "      <td>193</td>\n",
       "      <td>193</td>\n",
       "      <td>193</td>\n",
       "      <td>193</td>\n",
       "      <td>...</td>\n",
       "      <td>132</td>\n",
       "      <td>165</td>\n",
       "      <td>99</td>\n",
       "      <td>77</td>\n",
       "      <td>52</td>\n",
       "      <td>200</td>\n",
       "      <td>234</td>\n",
       "      <td>200</td>\n",
       "      <td>222</td>\n",
       "      <td>225</td>\n",
       "    </tr>\n",
       "    <tr>\n",
       "      <th>27451</th>\n",
       "      <td>23</td>\n",
       "      <td>151</td>\n",
       "      <td>154</td>\n",
       "      <td>157</td>\n",
       "      <td>158</td>\n",
       "      <td>160</td>\n",
       "      <td>161</td>\n",
       "      <td>163</td>\n",
       "      <td>164</td>\n",
       "      <td>166</td>\n",
       "      <td>...</td>\n",
       "      <td>198</td>\n",
       "      <td>198</td>\n",
       "      <td>198</td>\n",
       "      <td>198</td>\n",
       "      <td>198</td>\n",
       "      <td>196</td>\n",
       "      <td>195</td>\n",
       "      <td>195</td>\n",
       "      <td>195</td>\n",
       "      <td>194</td>\n",
       "    </tr>\n",
       "    <tr>\n",
       "      <th>27452</th>\n",
       "      <td>18</td>\n",
       "      <td>174</td>\n",
       "      <td>174</td>\n",
       "      <td>174</td>\n",
       "      <td>174</td>\n",
       "      <td>174</td>\n",
       "      <td>175</td>\n",
       "      <td>175</td>\n",
       "      <td>174</td>\n",
       "      <td>173</td>\n",
       "      <td>...</td>\n",
       "      <td>121</td>\n",
       "      <td>196</td>\n",
       "      <td>209</td>\n",
       "      <td>208</td>\n",
       "      <td>206</td>\n",
       "      <td>204</td>\n",
       "      <td>203</td>\n",
       "      <td>202</td>\n",
       "      <td>200</td>\n",
       "      <td>200</td>\n",
       "    </tr>\n",
       "    <tr>\n",
       "      <th>27453</th>\n",
       "      <td>17</td>\n",
       "      <td>177</td>\n",
       "      <td>181</td>\n",
       "      <td>184</td>\n",
       "      <td>185</td>\n",
       "      <td>187</td>\n",
       "      <td>189</td>\n",
       "      <td>190</td>\n",
       "      <td>191</td>\n",
       "      <td>191</td>\n",
       "      <td>...</td>\n",
       "      <td>119</td>\n",
       "      <td>56</td>\n",
       "      <td>27</td>\n",
       "      <td>58</td>\n",
       "      <td>102</td>\n",
       "      <td>79</td>\n",
       "      <td>47</td>\n",
       "      <td>64</td>\n",
       "      <td>87</td>\n",
       "      <td>93</td>\n",
       "    </tr>\n",
       "    <tr>\n",
       "      <th>27454</th>\n",
       "      <td>23</td>\n",
       "      <td>179</td>\n",
       "      <td>180</td>\n",
       "      <td>180</td>\n",
       "      <td>180</td>\n",
       "      <td>182</td>\n",
       "      <td>181</td>\n",
       "      <td>182</td>\n",
       "      <td>183</td>\n",
       "      <td>182</td>\n",
       "      <td>...</td>\n",
       "      <td>108</td>\n",
       "      <td>132</td>\n",
       "      <td>170</td>\n",
       "      <td>194</td>\n",
       "      <td>214</td>\n",
       "      <td>203</td>\n",
       "      <td>197</td>\n",
       "      <td>205</td>\n",
       "      <td>209</td>\n",
       "      <td>215</td>\n",
       "    </tr>\n",
       "  </tbody>\n",
       "</table>\n",
       "<p>27455 rows × 785 columns</p>\n",
       "</div>"
      ],
      "text/plain": [
       "       label  pixel1  pixel2  pixel3  pixel4  pixel5  pixel6  pixel7  pixel8  \\\n",
       "0          3     107     118     127     134     139     143     146     150   \n",
       "1          6     155     157     156     156     156     157     156     158   \n",
       "2          2     187     188     188     187     187     186     187     188   \n",
       "3          2     211     211     212     212     211     210     211     210   \n",
       "4         13     164     167     170     172     176     179     180     184   \n",
       "...      ...     ...     ...     ...     ...     ...     ...     ...     ...   \n",
       "27450     13     189     189     190     190     192     193     193     193   \n",
       "27451     23     151     154     157     158     160     161     163     164   \n",
       "27452     18     174     174     174     174     174     175     175     174   \n",
       "27453     17     177     181     184     185     187     189     190     191   \n",
       "27454     23     179     180     180     180     182     181     182     183   \n",
       "\n",
       "       pixel9  ...  pixel775  pixel776  pixel777  pixel778  pixel779  \\\n",
       "0         153  ...       207       207       207       207       206   \n",
       "1         158  ...        69       149       128        87        94   \n",
       "2         187  ...       202       201       200       199       198   \n",
       "3         210  ...       235       234       233       231       230   \n",
       "4         185  ...        92       105       105       108       133   \n",
       "...       ...  ...       ...       ...       ...       ...       ...   \n",
       "27450     193  ...       132       165        99        77        52   \n",
       "27451     166  ...       198       198       198       198       198   \n",
       "27452     173  ...       121       196       209       208       206   \n",
       "27453     191  ...       119        56        27        58       102   \n",
       "27454     182  ...       108       132       170       194       214   \n",
       "\n",
       "       pixel780  pixel781  pixel782  pixel783  pixel784  \n",
       "0           206       206       204       203       202  \n",
       "1           163       175       103       135       149  \n",
       "2           199       198       195       194       195  \n",
       "3           226       225       222       229       163  \n",
       "4           163       157       163       164       179  \n",
       "...         ...       ...       ...       ...       ...  \n",
       "27450       200       234       200       222       225  \n",
       "27451       196       195       195       195       194  \n",
       "27452       204       203       202       200       200  \n",
       "27453        79        47        64        87        93  \n",
       "27454       203       197       205       209       215  \n",
       "\n",
       "[27455 rows x 785 columns]"
      ]
     },
     "execution_count": 59,
     "metadata": {},
     "output_type": "execute_result"
    }
   ],
   "source": [
    "# Load train dataframe\n",
    "dataframe_raw = pd.read_csv('./dataset/sign_mnist_train.csv')\n",
    "dataframe_raw"
   ]
  },
  {
   "cell_type": "code",
   "execution_count": 60,
   "metadata": {
    "colab": {
     "base_uri": "https://localhost:8080/",
     "height": 0
    },
    "executionInfo": {
     "elapsed": 3751,
     "status": "ok",
     "timestamp": 1616439187557,
     "user": {
      "displayName": "Mizu Pumpink",
      "photoUrl": "https://lh3.googleusercontent.com/a-/AOh14GhuUpPlobRe-Yzx5kPokVuPf6FytiiVWYIYqKttuQ=s64",
      "userId": "13006616921884220327"
     },
     "user_tz": -60
    },
    "id": "CFUjbE41U0RK",
    "outputId": "e7c7acbf-e868-4bf4-b086-2ba797f9c7e8"
   },
   "outputs": [
    {
     "name": "stdout",
     "output_type": "stream",
     "text": [
      "Train dataset\n"
     ]
    },
    {
     "data": {
      "image/png": "[encoded data removed]",
      "text/plain": [
       "<Figure size 648x504 with 6 Axes>"
      ]
     },
     "metadata": {},
     "output_type": "display_data"
    }
   ],
   "source": [
    "def dataframe_to_arrays(dataframe):\n",
    "    # Make a copy of the original dataframe\n",
    "    dataframe1 = dataframe.copy(deep=True)\n",
    "    # Extract input & outupts as numpy arrays\n",
    "    inputs_array = dataframe1.drop(['label'], axis=1).to_numpy()\n",
    "    targets_array = dataframe1['label'].to_numpy()\n",
    "    return inputs_array, targets_array\n",
    "\n",
    "inputs_array, targets_array = dataframe_to_arrays(dataframe_raw)\n",
    "\n",
    "inputs = torch.from_numpy(inputs_array).type(torch.FloatTensor)\n",
    "targets = torch.from_numpy(targets_array).type(torch.LongTensor)\n",
    "\n",
    "# Train Dataset\n",
    "dataset = TensorDataset(inputs, targets)\n",
    "print('Train dataset')\n",
    "plot_dataset(dataset)"
   ]
  },
  {
   "cell_type": "code",
   "execution_count": 61,
   "metadata": {
    "colab": {
     "base_uri": "https://localhost:8080/",
     "height": 0
    },
    "executionInfo": {
     "elapsed": 4956,
     "status": "ok",
     "timestamp": 1616439188769,
     "user": {
      "displayName": "Mizu Pumpink",
      "photoUrl": "https://lh3.googleusercontent.com/a-/AOh14GhuUpPlobRe-Yzx5kPokVuPf6FytiiVWYIYqKttuQ=s64",
      "userId": "13006616921884220327"
     },
     "user_tz": -60
    },
    "id": "zpXhyFMd_bJV",
    "outputId": "a4e79a07-5edd-4879-96ad-f22c0c1735a5"
   },
   "outputs": [
    {
     "name": "stdout",
     "output_type": "stream",
     "text": [
      "Test dataset\n"
     ]
    },
    {
     "data": {
      "image/png": "[encoded data removed]",
      "text/plain": [
       "<Figure size 648x504 with 6 Axes>"
      ]
     },
     "metadata": {},
     "output_type": "display_data"
    }
   ],
   "source": [
    "# Load test dataframe\n",
    "df_test = pd.read_csv('./dataset/sign_mnist_test.csv')\n",
    "\n",
    "test_inputs_array, test_targets_array = dataframe_to_arrays(df_test)\n",
    "\n",
    "test_inputs = torch.from_numpy(test_inputs_array).type(torch.FloatTensor)\n",
    "test_targets = torch.from_numpy(test_targets_array).type(torch.LongTensor)\n",
    "\n",
    "# Test Dataset\n",
    "test_ds = TensorDataset(test_inputs, test_targets)\n",
    "print('Test dataset')\n",
    "plot_dataset(test_ds)"
   ]
  },
  {
   "cell_type": "markdown",
   "metadata": {
    "id": "7XnpdgF2OVnj"
   },
   "source": [
    "## Classification with logistic regression"
   ]
  },
  {
   "cell_type": "code",
   "execution_count": 62,
   "metadata": {
    "id": "Qs93bNyo98p6"
   },
   "outputs": [
    {
     "data": {
      "text/plain": [
       "(23337, 4118)"
      ]
     },
     "execution_count": 62,
     "metadata": {},
     "output_type": "execute_result"
    }
   ],
   "source": [
    "val_size = int(num_rows * 0.15)\n",
    "train_size = num_rows - val_size\n",
    "\n",
    "# Training validation\n",
    "train_ds, val_ds = random_split(dataset, [train_size, val_size])\n",
    "len(train_ds), len(val_ds)"
   ]
  },
  {
   "cell_type": "code",
   "execution_count": 63,
   "metadata": {
    "id": "0PTjEtq2UvHm"
   },
   "outputs": [],
   "source": [
    "batch_size = 128\n",
    "\n",
    "# Dataloaders\n",
    "train_loader = DataLoader(train_ds, batch_size, shuffle=True)\n",
    "val_loader = DataLoader(val_ds, batch_size*2)\n",
    "test_loader = DataLoader(test_ds, batch_size*2)"
   ]
  },
  {
   "cell_type": "code",
   "execution_count": 64,
   "metadata": {
    "id": "t2jO8A8BEh8i"
   },
   "outputs": [],
   "source": [
    "class SignMnistModel1(ImageClassificationBase):\n",
    "    # we instantiate the weights and biases using nn.Linear\n",
    "    def __init__(self):\n",
    "        super().__init__()\n",
    "        self.linear = nn.Linear(input_size, output_size)\n",
    "    \n",
    "    # the forward method is invoked when we pass a batch of inputs to the model\n",
    "    def forward(self, xb):\n",
    "        # we flatten the input tensor and pass it into self.linear\n",
    "        xb = xb.reshape(-1, input_size)\n",
    "        out = self.linear(xb)\n",
    "        return out"
   ]
  },
  {
   "cell_type": "code",
   "execution_count": 65,
   "metadata": {
    "id": "5dEkRo7CfWkw"
   },
   "outputs": [
    {
     "name": "stdout",
     "output_type": "stream",
     "text": [
      "[{'val_loss': 253.34719848632812, 'val_acc': 0.04486965388059616}]\n",
      "Epoch [0], val_loss: 29681.2188, val_acc: 0.1907\n",
      "Epoch [1], val_loss: 12838.3447, val_acc: 0.3408\n",
      "Epoch [0], val_loss: 13497.4600, val_acc: 0.3066\n",
      "Epoch [1], val_loss: 10170.3994, val_acc: 0.4597\n",
      "Epoch [0], val_loss: 621.1763, val_acc: 0.7910\n",
      "Epoch [1], val_loss: 567.2344, val_acc: 0.7997\n"
     ]
    }
   ],
   "source": [
    "learning_rate = 0.01\n",
    "\n",
    "# Training the model\n",
    "model = SignMnistModel1()\n",
    "\n",
    "history = [evaluate(model, val_loader)]\n",
    "print(history)\n",
    "\n",
    "history += fit(2, learning_rate, model, train_loader, val_loader)\n",
    "history += fit(2, learning_rate, model, train_loader, val_loader)\n",
    "history += fit(2, learning_rate/10, model, train_loader, val_loader)"
   ]
  },
  {
   "cell_type": "code",
   "execution_count": 66,
   "metadata": {
    "id": "fk-6Hjflh2f-"
   },
   "outputs": [
    {
     "data": {
      "image/png": "[encoded data removed]",
      "text/plain": [
       "<Figure size 432x288 with 1 Axes>"
      ]
     },
     "metadata": {},
     "output_type": "display_data"
    }
   ],
   "source": [
    "plot_accuracies(history)"
   ]
  },
  {
   "cell_type": "code",
   "execution_count": 67,
   "metadata": {
    "id": "Fj-N3ctgOmRF"
   },
   "outputs": [],
   "source": [
    "# Save a model\n",
    "# The .state_dict method returns an OrderedDict containing all the weights and\n",
    "# bias matrices mapped to the right attributes of the model.\n",
    "torch.save(model.state_dict(), './models/sign-mnist-logistic.pth')\n",
    "\n",
    "## To load the model weights, we can instante a new object of the class\n",
    "## MyModel, and use the .load_state_dict method.\n",
    "#my_model = MyModel()\n",
    "#my_model.load_state_dict(torch.load('sign-mnist-logistic.pth'))"
   ]
  },
  {
   "cell_type": "markdown",
   "metadata": {
    "id": "4fxub8JNXx3O"
   },
   "source": [
    "### Test"
   ]
  },
  {
   "cell_type": "code",
   "execution_count": 68,
   "metadata": {
    "id": "Q_maGhQIh6x3"
   },
   "outputs": [
    {
     "data": {
      "text/plain": [
       "{'val_loss': 1335.01416015625, 'val_acc': 0.658809244632721}"
      ]
     },
     "execution_count": 68,
     "metadata": {},
     "output_type": "execute_result"
    }
   ],
   "source": [
    "# Evaluate on test dataset\n",
    "result = evaluate(model, test_loader)\n",
    "result"
   ]
  },
  {
   "cell_type": "code",
   "execution_count": 69,
   "metadata": {
    "id": "rt5jVF1uiNvo"
   },
   "outputs": [],
   "source": [
    "def predict_image(img, model):\n",
    "    xb = img.unsqueeze(0)\n",
    "    yb = model(xb)\n",
    "    _, preds  = torch.max(yb, dim=1)\n",
    "    return preds[0].item()"
   ]
  },
  {
   "cell_type": "code",
   "execution_count": 70,
   "metadata": {
    "id": "Si1UHbHliP7o"
   },
   "outputs": [
    {
     "data": {
      "image/png": "[encoded data removed]",
      "text/plain": [
       "<Figure size 1080x504 with 10 Axes>"
      ]
     },
     "metadata": {},
     "output_type": "display_data"
    }
   ],
   "source": [
    "def plot_prediction(dataset):\n",
    "    plt.figure(figsize=(15,7))\n",
    "    for i in range(10):\n",
    "        plt.subplot(2,5,i+1)\n",
    "        image, label = dataset[i]\n",
    "        plt.imshow(image.reshape(1,28,28)[0], cmap='gray')\n",
    "        lbl = 'Label:'+int_to_char(label.item())+', Predicted:'+int_to_char(predict_image(image, model))\n",
    "        plt.xlabel(lbl)\n",
    "    plt.show()\n",
    "\n",
    "plot_prediction(test_ds)"
   ]
  },
  {
   "cell_type": "markdown",
   "metadata": {
    "id": "JUPethExz705"
   },
   "source": [
    "## Classification with CNN"
   ]
  },
  {
   "cell_type": "code",
   "execution_count": 71,
   "metadata": {
    "executionInfo": {
     "elapsed": 531,
     "status": "ok",
     "timestamp": 1616439245925,
     "user": {
      "displayName": "Mizu Pumpink",
      "photoUrl": "https://lh3.googleusercontent.com/a-/AOh14GhuUpPlobRe-Yzx5kPokVuPf6FytiiVWYIYqKttuQ=s64",
      "userId": "13006616921884220327"
     },
     "user_tz": -60
    },
    "id": "uAajLSHJ8UlJ"
   },
   "outputs": [],
   "source": [
    "val_size = int(num_rows * 0.15)\n",
    "train_size = num_rows - val_size\n",
    "\n",
    "# Training validation\n",
    "train_ds, val_ds = random_split(dataset, [train_size, val_size])\n",
    "len(train_ds), len(val_ds)\n",
    "\n",
    "# Create data loaders to load the data in batches\n",
    "batch_size = 128\n",
    "\n",
    "train_loader2 = DataLoader(train_ds, batch_size, shuffle=True, num_workers=2, pin_memory=True)\n",
    "val_loader2 = DataLoader(val_ds, batch_size*2, num_workers=2, pin_memory=True)\n",
    "test_loader2 = DataLoader(test_ds, batch_size*2, num_workers=2, pin_memory=True)\n",
    "\n",
    "# Move data loaders to the appropriate device\n",
    "train_loader2 = DeviceDataLoader(train_loader2, device)\n",
    "val_loader2 = DeviceDataLoader(val_loader2, device)\n",
    "test_loader2 = DeviceDataLoader(test_loader2, device)"
   ]
  },
  {
   "cell_type": "code",
   "execution_count": 72,
   "metadata": {
    "executionInfo": {
     "elapsed": 603,
     "status": "ok",
     "timestamp": 1616439254631,
     "user": {
      "displayName": "Mizu Pumpink",
      "photoUrl": "https://lh3.googleusercontent.com/a-/AOh14GhuUpPlobRe-Yzx5kPokVuPf6FytiiVWYIYqKttuQ=s64",
      "userId": "13006616921884220327"
     },
     "user_tz": -60
    },
    "id": "zS8D_lDD5mtV"
   },
   "outputs": [],
   "source": [
    "class SignMnistModelCNN(ImageClassificationBase):\n",
    "    \"\"\"Feedfoward neural network with 1 hidden layer\"\"\"\n",
    "    def __init__(self, in_size, out_size):\n",
    "        super().__init__()\n",
    "        # hidden layer 1\n",
    "        self.linear1 = nn.Linear(in_size, 16)\n",
    "        # hidden layer 2\n",
    "        self.linear2 = nn.Linear(16, 32)\n",
    "        # output layer\n",
    "        self.linearO = nn.Linear(32, out_size)\n",
    "        \n",
    "    def forward(self, xb):\n",
    "        # Flatten the image tensors\n",
    "        out = xb.view(xb.size(0), -1)\n",
    "        # Get intermediate outputs using hidden layer 1\n",
    "        out = self.linear1(out)\n",
    "        # Apply activation function\n",
    "        out = F.relu(out)\n",
    "        # Get intermediate outputs using hidden layer 2\n",
    "        out = self.linear2(out)\n",
    "        # Apply activation function\n",
    "        out = F.relu(out)\n",
    "        # Get predictions using output layer\n",
    "        out = self.linearO(out)\n",
    "        #out = F.relu(out)\n",
    "        return out"
   ]
  },
  {
   "cell_type": "code",
   "execution_count": 73,
   "metadata": {
    "colab": {
     "base_uri": "https://localhost:8080/"
    },
    "executionInfo": {
     "elapsed": 3685,
     "status": "ok",
     "timestamp": 1616439260542,
     "user": {
      "displayName": "Mizu Pumpink",
      "photoUrl": "https://lh3.googleusercontent.com/a-/AOh14GhuUpPlobRe-Yzx5kPokVuPf6FytiiVWYIYqKttuQ=s64",
      "userId": "13006616921884220327"
     },
     "user_tz": -60
    },
    "id": "wmMZ3XGn0BR7",
    "outputId": "3354bcae-3439-4a75-daf4-3e45a06301d4"
   },
   "outputs": [
    {
     "data": {
      "text/plain": [
       "SignMnistModelCNN(\n",
       "  (linear1): Linear(in_features=784, out_features=16, bias=True)\n",
       "  (linear2): Linear(in_features=16, out_features=32, bias=True)\n",
       "  (linearO): Linear(in_features=32, out_features=26, bias=True)\n",
       ")"
      ]
     },
     "execution_count": 73,
     "metadata": {},
     "output_type": "execute_result"
    }
   ],
   "source": [
    "model2 = SignMnistModelCNN(input_size, output_size)\n",
    "to_device(model2, device)"
   ]
  },
  {
   "cell_type": "code",
   "execution_count": 74,
   "metadata": {
    "colab": {
     "base_uri": "https://localhost:8080/"
    },
    "executionInfo": {
     "elapsed": 719,
     "status": "ok",
     "timestamp": 1616439262832,
     "user": {
      "displayName": "Mizu Pumpink",
      "photoUrl": "https://lh3.googleusercontent.com/a-/AOh14GhuUpPlobRe-Yzx5kPokVuPf6FytiiVWYIYqKttuQ=s64",
      "userId": "13006616921884220327"
     },
     "user_tz": -60
    },
    "id": "MPCjlO5--bpz",
    "outputId": "f8234843-0739-4fce-f5c7-6a63b3b07ff4"
   },
   "outputs": [
    {
     "data": {
      "text/plain": [
       "[{'val_loss': 36.673736572265625, 'val_acc': 0.04541276767849922}]"
      ]
     },
     "execution_count": 74,
     "metadata": {},
     "output_type": "execute_result"
    }
   ],
   "source": [
    "history2 = [evaluate(model2, val_loader2)]\n",
    "history2"
   ]
  },
  {
   "cell_type": "code",
   "execution_count": 75,
   "metadata": {
    "colab": {
     "base_uri": "https://localhost:8080/"
    },
    "executionInfo": {
     "elapsed": 5664,
     "status": "ok",
     "timestamp": 1616439299910,
     "user": {
      "displayName": "Mizu Pumpink",
      "photoUrl": "https://lh3.googleusercontent.com/a-/AOh14GhuUpPlobRe-Yzx5kPokVuPf6FytiiVWYIYqKttuQ=s64",
      "userId": "13006616921884220327"
     },
     "user_tz": -60
    },
    "id": "Oe_mpPhm-i3Q",
    "outputId": "362dac26-5070-4e80-c51b-7356f9df36d5"
   },
   "outputs": [
    {
     "name": "stdout",
     "output_type": "stream",
     "text": [
      "Epoch [0], val_loss: 3.2204, val_acc: 0.0460\n",
      "Epoch [1], val_loss: 3.2054, val_acc: 0.0460\n",
      "Epoch [2], val_loss: 3.1974, val_acc: 0.0460\n",
      "Epoch [3], val_loss: 3.1926, val_acc: 0.0460\n",
      "Epoch [4], val_loss: 3.1888, val_acc: 0.0460\n"
     ]
    }
   ],
   "source": [
    "history2 += fit(5, 0.1, model2, train_loader2, val_loader2)"
   ]
  },
  {
   "cell_type": "code",
   "execution_count": 76,
   "metadata": {
    "colab": {
     "base_uri": "https://localhost:8080/",
     "height": 295
    },
    "executionInfo": {
     "elapsed": 591,
     "status": "ok",
     "timestamp": 1616439277533,
     "user": {
      "displayName": "Mizu Pumpink",
      "photoUrl": "https://lh3.googleusercontent.com/a-/AOh14GhuUpPlobRe-Yzx5kPokVuPf6FytiiVWYIYqKttuQ=s64",
      "userId": "13006616921884220327"
     },
     "user_tz": -60
    },
    "id": "9XpUL-kc-2_B",
    "outputId": "48916917-745a-47ff-a46c-4442dc4dce5b"
   },
   "outputs": [
    {
     "data": {
      "image/png": "[encoded data removed]",
      "text/plain": [
       "<Figure size 432x288 with 1 Axes>"
      ]
     },
     "metadata": {},
     "output_type": "display_data"
    }
   ],
   "source": [
    "plot_accuracies(history2)"
   ]
  },
  {
   "cell_type": "code",
   "execution_count": 77,
   "metadata": {
    "id": "yr0o1QySDM5_"
   },
   "outputs": [
    {
     "data": {
      "text/plain": [
       "{'val_loss': 3.2141835689544678, 'val_acc': 0.019396550953388214}"
      ]
     },
     "execution_count": 77,
     "metadata": {},
     "output_type": "execute_result"
    }
   ],
   "source": [
    "result2 = evaluate(model2, test_loader2)\n",
    "result2"
   ]
  }
 ],
 "metadata": {
  "accelerator": "GPU",
  "colab": {
   "authorship_tag": "ABX9TyMmvrjwdwo8BuzlRs0VTjim",
   "collapsed_sections": [
    "csR4PGhE54br",
    "0MJjdrQi58M3",
    "8ZLfub9-6cbE",
    "7XnpdgF2OVnj"
   ],
   "name": "sign_mnist.ipynb",
   "provenance": [],
   "toc_visible": true
  },
  "kernelspec": {
   "display_name": "Python 3",
   "language": "python",
   "name": "python3"
  },
  "language_info": {
   "codemirror_mode": {
    "name": "ipython",
    "version": 3
   },
   "file_extension": ".py",
   "mimetype": "text/x-python",
   "name": "python",
   "nbconvert_exporter": "python",
   "pygments_lexer": "ipython3",
   "version": "3.8.5"
  }
 },
 "nbformat": 4,
 "nbformat_minor": 1
}
